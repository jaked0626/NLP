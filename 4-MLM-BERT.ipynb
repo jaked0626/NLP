{
 "cells": [
  {
   "cell_type": "markdown",
   "id": "5582a1e4",
   "metadata": {},
   "source": [
    "# BERTを使ったMasked-Language Modelling (MLM)\n",
    "   \n",
    "- BERT = Bidirectional Encoder Representations from Transformers\n",
    "- Googleが作ったNLP技術．膨大なオンライン文書(wikipediaなど)を基に**事前学習**したモデル．「文章の空欄穴埋め」や「次の文章・単語の予測」タスクを大量に学習している．\n",
    "- 文脈まで考慮した分散表現（文章や単語をベクトル化したもの）を生成することができる．\n",
    "- Transforms word into vector. \n",
    "- \"Transformer\" : text version of LSDM. Nodes do not just incorporate preceding nodes but earlier high-value nodes as well.  \n"
   ]
  },
  {
   "cell_type": "code",
   "execution_count": 1,
   "id": "dcdef690",
   "metadata": {},
   "outputs": [],
   "source": [
    "from transformers import BertTokenizer, BertForMaskedLM # BERT\n",
    "import torch # PyTorchを使う\n",
    "import numpy as np"
   ]
  },
  {
   "cell_type": "code",
   "execution_count": 2,
   "id": "1200bf1f",
   "metadata": {},
   "outputs": [
    {
     "name": "stderr",
     "output_type": "stream",
     "text": [
      "Some weights of the model checkpoint at bert-base-uncased were not used when initializing BertForMaskedLM: ['cls.seq_relationship.weight', 'cls.seq_relationship.bias']\n",
      "- This IS expected if you are initializing BertForMaskedLM from the checkpoint of a model trained on another task or with another architecture (e.g. initializing a BertForSequenceClassification model from a BertForPreTraining model).\n",
      "- This IS NOT expected if you are initializing BertForMaskedLM from the checkpoint of a model that you expect to be exactly identical (initializing a BertForSequenceClassification model from a BertForSequenceClassification model).\n"
     ]
    }
   ],
   "source": [
    "# bert-base-uncased = 事前学習済み英語用BERT.日本語版もある．初回の読み込みは結構時間がかかる．\n",
    "\n",
    "tokenizer = BertTokenizer.from_pretrained('bert-base-uncased') \n",
    "model     = BertForMaskedLM.from_pretrained('bert-base-uncased')"
   ]
  },
  {
   "cell_type": "code",
   "execution_count": 3,
   "id": "43d5a179",
   "metadata": {},
   "outputs": [],
   "source": [
    "# Load pickled files\n",
    "\n",
    "import pickle\n",
    "\n",
    "urls = ['https://www3.nhk.or.jp/nhkworld/en/news/20211025_13/',\n",
    "        'https://www3.nhk.or.jp/nhkworld/en/news/20211025_08/',\n",
    "        'https://www3.nhk.or.jp/nhkworld/en/news/20211025_04/',\n",
    "        'https://www3.nhk.or.jp/nhkworld/en/news/20211024_11/',\n",
    "        'https://www3.nhk.or.jp/nhkworld/en/news/20211024_13/',\n",
    "        'https://www3.nhk.or.jp/nhkworld/en/news/20211022_32/']\n",
    "\n",
    "# Articles: URLの最後の数字部分を取り出す\n",
    "\n",
    "articles = [urls[0].split('/')[len(urls[0].split('/'))-2]]\n",
    "for i in range(1,len(urls)):\n",
    "    articles.append(urls[i].split('/')[len(urls[i].split('/'))-2])\n",
    "    \n",
    "data = {}\n",
    "for i, c in enumerate(articles):\n",
    "    with open(\"articles/\" + c + \".txt\", \"rb\") as file:\n",
    "        data[c] = pickle.load(file)"
   ]
  },
  {
   "cell_type": "code",
   "execution_count": 4,
   "id": "91f21e34",
   "metadata": {},
   "outputs": [
    {
     "data": {
      "text/plain": [
       "'The competition has been running for about 40 years but was cancelled last year due to the pandemic. Sumida is home to the famous Ryogoku Kokugikan, considered the spiritual heart of the sumo world.'"
      ]
     },
     "execution_count": 4,
     "metadata": {},
     "output_type": "execute_result"
    }
   ],
   "source": [
    "# text\n",
    "text = data['20211024_13'][1]\n",
    "text"
   ]
  },
  {
   "cell_type": "code",
   "execution_count": 5,
   "id": "c0556104",
   "metadata": {},
   "outputs": [
    {
     "data": {
      "text/plain": [
       "tensor([[  101,  1996,  2971,  2038,  2042,  2770,  2005,  2055,  2871,  2086,\n",
       "          2021,  2001,  8014,  2197,  2095,  2349,  2000,  1996,  6090,  3207,\n",
       "          7712,  1012,  7680,  8524,  2003,  2188,  2000,  1996,  3297, 29431,\n",
       "         22844,  5283, 12849,  5283,  5856,  9126,  1010,  2641,  1996,  6259,\n",
       "          2540,  1997,  1996, 28193,  2088,  1012,   102]])"
      ]
     },
     "execution_count": 5,
     "metadata": {},
     "output_type": "execute_result"
    }
   ],
   "source": [
    "# トークン化\n",
    "\n",
    "inputs = tokenizer.encode(text, return_tensors = 'pt') # 'pt' = PyTorchで使える形式にしておく\n",
    "inputs # 最初の101と最後の102は形式的な値．1012はピリオド．Sumoは28193などなど．"
   ]
  },
  {
   "cell_type": "code",
   "execution_count": 6,
   "id": "eb4cf0b9",
   "metadata": {},
   "outputs": [
    {
     "name": "stdout",
     "output_type": "stream",
     "text": [
      "The competition has been running for about 40 years but was cancelled last year due to the pandemic. Sumida is home to the famous Ryogoku Kokugikan, considered the spiritual heart of the [MASK] world.\n"
     ]
    },
    {
     "data": {
      "text/plain": [
       "tensor([[  101,  1996,  2971,  2038,  2042,  2770,  2005,  2055,  2871,  2086,\n",
       "          2021,  2001,  8014,  2197,  2095,  2349,  2000,  1996,  6090,  3207,\n",
       "          7712,  1012,  7680,  8524,  2003,  2188,  2000,  1996,  3297, 29431,\n",
       "         22844,  5283, 12849,  5283,  5856,  9126,  1010,  2641,  1996,  6259,\n",
       "          2540,  1997,  1996,   103,  2088,  1012,   102]])"
      ]
     },
     "execution_count": 6,
     "metadata": {},
     "output_type": "execute_result"
    }
   ],
   "source": [
    "# \"sumo\"を予測できるか試してみる.\n",
    "\n",
    "import re\n",
    "\n",
    "text = re.sub('sumo', '[MASK]', text)\n",
    "print(text)\n",
    "inputs = tokenizer.encode(text, return_tensors = 'pt')\n",
    "inputs # MASKした単語は103"
   ]
  },
  {
   "cell_type": "code",
   "execution_count": 7,
   "id": "d8b26521",
   "metadata": {},
   "outputs": [],
   "source": [
    "# BERTに入力し，[MASK]にどの単語が最も入りやすいかを表すscoreを得る\n",
    "\n",
    "with torch.no_grad():\n",
    "    output = model(inputs)\n",
    "    scores = output.logits"
   ]
  },
  {
   "cell_type": "code",
   "execution_count": 8,
   "id": "f624b896",
   "metadata": {},
   "outputs": [
    {
     "data": {
      "text/plain": [
       "'western'"
      ]
     },
     "execution_count": 8,
     "metadata": {},
     "output_type": "execute_result"
    }
   ],
   "source": [
    "# 予測結果\n",
    "\n",
    "ID   = inputs[0].tolist().index(103)\n",
    "best = scores[0, ID].argmax(-1).item()\n",
    "token_best = tokenizer.convert_ids_to_tokens(best)\n",
    "token_best # 正しくはないが，自然な文章ではある"
   ]
  },
  {
   "cell_type": "code",
   "execution_count": 10,
   "id": "46c48a81",
   "metadata": {},
   "outputs": [
    {
     "data": {
      "text/plain": [
       "['the spiritual heart of the western world',\n",
       " 'the spiritual heart of the modern world',\n",
       " 'the spiritual heart of the japanese world',\n",
       " 'the spiritual heart of the buddhist world',\n",
       " 'the spiritual heart of the muslim world',\n",
       " 'the spiritual heart of the christian world',\n",
       " 'the spiritual heart of the anime world',\n",
       " 'the spiritual heart of the islamic world',\n",
       " 'the spiritual heart of the spirit world',\n",
       " 'the spiritual heart of the asian world',\n",
       " 'the spiritual heart of the entire world',\n",
       " 'the spiritual heart of the human world',\n",
       " 'the spiritual heart of the spiritual world',\n",
       " 'the spiritual heart of the magical world',\n",
       " 'the spiritual heart of the baseball world',\n",
       " 'the spiritual heart of the new world',\n",
       " 'the spiritual heart of the buddhism world',\n",
       " 'the spiritual heart of the whole world',\n",
       " 'the spiritual heart of the ancient world',\n",
       " 'the spiritual heart of the natural world',\n",
       " 'the spiritual heart of the outside world',\n",
       " 'the spiritual heart of the demon world',\n",
       " 'the spiritual heart of the ninja world',\n",
       " 'the spiritual heart of the zen world',\n",
       " 'the spiritual heart of the wrestling world',\n",
       " 'the spiritual heart of the jewish world',\n",
       " 'the spiritual heart of the sports world',\n",
       " 'the spiritual heart of the pokemon world',\n",
       " 'the spiritual heart of the medical world',\n",
       " 'the spiritual heart of the mushroom world',\n",
       " 'the spiritual heart of the manga world',\n",
       " 'the spiritual heart of the samurai world',\n",
       " 'the spiritual heart of the arab world',\n",
       " 'the spiritual heart of the third world',\n",
       " 'the spiritual heart of the judo world',\n",
       " 'the spiritual heart of the nuclear world',\n",
       " 'the spiritual heart of the karate world',\n",
       " 'the spiritual heart of the music world',\n",
       " 'the spiritual heart of the art world',\n",
       " 'the spiritual heart of the religious world',\n",
       " 'the spiritual heart of the musical world',\n",
       " 'the spiritual heart of the supernatural world',\n",
       " 'the spiritual heart of the sumo world']"
      ]
     },
     "execution_count": 10,
     "metadata": {},
     "output_type": "execute_result"
    }
   ],
   "source": [
    "# 上位の結果\n",
    "\n",
    "text = 'the spiritual heart of the [MASK] world'\n",
    "\n",
    "def topk(k):\n",
    "    \n",
    "    ID = inputs[0].tolist().index(103) \n",
    "    topk = scores[0, ID].topk(k)\n",
    "    ids_topk = topk.indices # トークンのID\n",
    "    tokens_topk = tokenizer.convert_ids_to_tokens(ids_topk) # トークン\n",
    "    scores_topk = topk.values.cpu().numpy() # スコア\n",
    "\n",
    "    # 文章中の[MASK]を上で求めたトークンで置き換える。\n",
    "    text_topk = [] # 穴埋めされたテキストを追加する。\n",
    "    for token in tokens_topk:\n",
    "        text_topk.append(text.replace('[MASK]', token, 1))\n",
    "\n",
    "    return text_topk\n",
    "\n",
    "topk(43) # sumoは43位.日本ぽい単語が多い（文章中にJapaneseといった単語は無いにも関わらず）．"
   ]
  },
  {
   "cell_type": "code",
   "execution_count": null,
   "id": "50f3cc46",
   "metadata": {},
   "outputs": [],
   "source": []
  }
 ],
 "metadata": {
  "kernelspec": {
   "display_name": "Python 3",
   "language": "python",
   "name": "python3"
  },
  "language_info": {
   "codemirror_mode": {
    "name": "ipython",
    "version": 3
   },
   "file_extension": ".py",
   "mimetype": "text/x-python",
   "name": "python",
   "nbconvert_exporter": "python",
   "pygments_lexer": "ipython3",
   "version": "3.7.10"
  }
 },
 "nbformat": 4,
 "nbformat_minor": 5
}
