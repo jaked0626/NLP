{
 "cells": [
  {
   "cell_type": "markdown",
   "metadata": {},
   "source": [
    "# Sentiment Analysis (センチメント分析)\n",
    "\n",
    "1. **TextBlob Module:** Linguistic researchers have labeled the sentiment of words based on their domain expertise. Sentiment of words can vary based on where it is in a sentence. The TextBlob module allows us to take advantage of these labels.\n",
    "2. **Sentiment Labels:** Each word in a corpus is labeled in terms of polarity and subjectivity (there are more labels as well, but we're going to ignore them for now). A corpus' sentiment is the average of these.\n",
    "   * **Polarity**: How positive or negative a word is. -1 is very negative. +1 is very positive.\n",
    "   * **Subjectivity**: How subjective, or opinionated a word is. 0 is fact. +1 is very much an opinion.\n",
    "   \n",
    "\n",
    "- 言語学者が全ての単語についてセンチメントスコアを付けたものを利用する．\n",
    "- \"not great\"と\"great\"は意味全く異なるので，単語の順番が大事．単語文書行列ではなくコーパスデータをそのまま使う．\n",
    "- 大量のデータから深層学習などを使って単語のスコア（埋め込み：embedding）を得る方法が最近の主流．(Getting a Documet-term matrix for a plethora of data is impractical, so instead project that sparse matrix onto a lower dimensional, higher density vector for learning)"
   ]
  },
  {
   "cell_type": "code",
   "execution_count": 8,
   "metadata": {},
   "outputs": [
    {
     "data": {
      "text/html": [
       "<div>\n",
       "<style scoped>\n",
       "    .dataframe tbody tr th:only-of-type {\n",
       "        vertical-align: middle;\n",
       "    }\n",
       "\n",
       "    .dataframe tbody tr th {\n",
       "        vertical-align: top;\n",
       "    }\n",
       "\n",
       "    .dataframe thead th {\n",
       "        text-align: right;\n",
       "    }\n",
       "</style>\n",
       "<table border=\"1\" class=\"dataframe\">\n",
       "  <thead>\n",
       "    <tr style=\"text-align: right;\">\n",
       "      <th></th>\n",
       "      <th>article</th>\n",
       "    </tr>\n",
       "  </thead>\n",
       "  <tbody>\n",
       "    <tr>\n",
       "      <th>20211025_13</th>\n",
       "      <td>Japan's wedding industry is enduring tough tim...</td>\n",
       "    </tr>\n",
       "    <tr>\n",
       "      <th>20211025_08</th>\n",
       "      <td>The Tokyo Metropolitan Government has lifted a...</td>\n",
       "    </tr>\n",
       "    <tr>\n",
       "      <th>20211025_04</th>\n",
       "      <td>Russia's first and second largest cities of Mo...</td>\n",
       "    </tr>\n",
       "    <tr>\n",
       "      <th>20211024_11</th>\n",
       "      <td>The government of Singapore will make COVID-19...</td>\n",
       "    </tr>\n",
       "    <tr>\n",
       "      <th>20211024_13</th>\n",
       "      <td>Around 130 elementary school students took par...</td>\n",
       "    </tr>\n",
       "    <tr>\n",
       "      <th>20211022_32</th>\n",
       "      <td>The Tokyo Metropolitan Government has opened t...</td>\n",
       "    </tr>\n",
       "  </tbody>\n",
       "</table>\n",
       "</div>"
      ],
      "text/plain": [
       "                                                       article\n",
       "20211025_13  Japan's wedding industry is enduring tough tim...\n",
       "20211025_08  The Tokyo Metropolitan Government has lifted a...\n",
       "20211025_04  Russia's first and second largest cities of Mo...\n",
       "20211024_11  The government of Singapore will make COVID-19...\n",
       "20211024_13  Around 130 elementary school students took par...\n",
       "20211022_32  The Tokyo Metropolitan Government has opened t..."
      ]
     },
     "execution_count": 8,
     "metadata": {},
     "output_type": "execute_result"
    }
   ],
   "source": [
    "import pandas as pd\n",
    "\n",
    "data = pd.read_pickle('corpus.pkl')\n",
    "data"
   ]
  },
  {
   "cell_type": "code",
   "execution_count": 10,
   "metadata": {},
   "outputs": [
    {
     "data": {
      "text/html": [
       "<div>\n",
       "<style scoped>\n",
       "    .dataframe tbody tr th:only-of-type {\n",
       "        vertical-align: middle;\n",
       "    }\n",
       "\n",
       "    .dataframe tbody tr th {\n",
       "        vertical-align: top;\n",
       "    }\n",
       "\n",
       "    .dataframe thead th {\n",
       "        text-align: right;\n",
       "    }\n",
       "</style>\n",
       "<table border=\"1\" class=\"dataframe\">\n",
       "  <thead>\n",
       "    <tr style=\"text-align: right;\">\n",
       "      <th></th>\n",
       "      <th>article</th>\n",
       "      <th>polarity</th>\n",
       "      <th>subjectivity</th>\n",
       "    </tr>\n",
       "  </thead>\n",
       "  <tbody>\n",
       "    <tr>\n",
       "      <th>20211025_13</th>\n",
       "      <td>Japan's wedding industry is enduring tough tim...</td>\n",
       "      <td>0.060185</td>\n",
       "      <td>0.361111</td>\n",
       "    </tr>\n",
       "    <tr>\n",
       "      <th>20211025_08</th>\n",
       "      <td>The Tokyo Metropolitan Government has lifted a...</td>\n",
       "      <td>0.150253</td>\n",
       "      <td>0.316351</td>\n",
       "    </tr>\n",
       "    <tr>\n",
       "      <th>20211025_04</th>\n",
       "      <td>Russia's first and second largest cities of Mo...</td>\n",
       "      <td>0.040249</td>\n",
       "      <td>0.366623</td>\n",
       "    </tr>\n",
       "    <tr>\n",
       "      <th>20211024_11</th>\n",
       "      <td>The government of Singapore will make COVID-19...</td>\n",
       "      <td>0.022273</td>\n",
       "      <td>0.323601</td>\n",
       "    </tr>\n",
       "    <tr>\n",
       "      <th>20211024_13</th>\n",
       "      <td>Around 130 elementary school students took par...</td>\n",
       "      <td>0.078846</td>\n",
       "      <td>0.407051</td>\n",
       "    </tr>\n",
       "    <tr>\n",
       "      <th>20211022_32</th>\n",
       "      <td>The Tokyo Metropolitan Government has opened t...</td>\n",
       "      <td>0.035472</td>\n",
       "      <td>0.243137</td>\n",
       "    </tr>\n",
       "  </tbody>\n",
       "</table>\n",
       "</div>"
      ],
      "text/plain": [
       "                                                       article  polarity  \\\n",
       "20211025_13  Japan's wedding industry is enduring tough tim...  0.060185   \n",
       "20211025_08  The Tokyo Metropolitan Government has lifted a...  0.150253   \n",
       "20211025_04  Russia's first and second largest cities of Mo...  0.040249   \n",
       "20211024_11  The government of Singapore will make COVID-19...  0.022273   \n",
       "20211024_13  Around 130 elementary school students took par...  0.078846   \n",
       "20211022_32  The Tokyo Metropolitan Government has opened t...  0.035472   \n",
       "\n",
       "             subjectivity  \n",
       "20211025_13      0.361111  \n",
       "20211025_08      0.316351  \n",
       "20211025_04      0.366623  \n",
       "20211024_11      0.323601  \n",
       "20211024_13      0.407051  \n",
       "20211022_32      0.243137  "
      ]
     },
     "execution_count": 10,
     "metadata": {},
     "output_type": "execute_result"
    }
   ],
   "source": [
    "# Create quick lambda functions to find the polarity and subjectivity of each routine\n",
    "\n",
    "from textblob import TextBlob\n",
    "\n",
    "pol = lambda x: TextBlob(x).sentiment.polarity\n",
    "sub = lambda x: TextBlob(x).sentiment.subjectivity\n",
    "\n",
    "data['polarity'] = data['article'].apply(pol)\n",
    "data['subjectivity'] = data['article'].apply(sub)\n",
    "data"
   ]
  },
  {
   "cell_type": "code",
   "execution_count": 20,
   "metadata": {},
   "outputs": [
    {
     "data": {
      "image/png": "[encoded data removed]",
      "text/plain": [
       "<Figure size 1440x576 with 1 Axes>"
      ]
     },
     "metadata": {
      "needs_background": "light"
     },
     "output_type": "display_data"
    }
   ],
   "source": [
    "# Let's plot the results\n",
    "import matplotlib.pyplot as plt\n",
    "\n",
    "plt.rcParams['figure.figsize'] = [20, 8]\n",
    "\n",
    "for index, article in enumerate(data.index):\n",
    "    x = data.polarity.loc[article]\n",
    "    y = data.subjectivity.loc[article]\n",
    "    plt.scatter(x, y, color = 'royalblue')\n",
    "    plt.text(x + .001, y +.001, data.index[index], fontsize=12)\n",
    "    plt.xlim(-.01, .17) \n",
    "    \n",
    "plt.title('Sentiment Analysis', fontsize=20)\n",
    "plt.xlabel('<-- Negative -------- Positive -->', fontsize=15)\n",
    "plt.ylabel('<-- Facts -------- Opinions -->', fontsize=15)\n",
    "\n",
    "plt.show()"
   ]
  },
  {
   "cell_type": "code",
   "execution_count": null,
   "metadata": {
    "collapsed": true
   },
   "outputs": [],
   "source": []
  }
 ],
 "metadata": {
  "kernelspec": {
   "display_name": "Python 3",
   "language": "python",
   "name": "python3"
  },
  "language_info": {
   "codemirror_mode": {
    "name": "ipython",
    "version": 3
   },
   "file_extension": ".py",
   "mimetype": "text/x-python",
   "name": "python",
   "nbconvert_exporter": "python",
   "pygments_lexer": "ipython3",
   "version": "3.7.1"
  },
  "toc": {
   "nav_menu": {},
   "number_sections": true,
   "sideBar": true,
   "skip_h1_title": false,
   "toc_cell": false,
   "toc_position": {},
   "toc_section_display": "block",
   "toc_window_display": false
  },
  "varInspector": {
   "cols": {
    "lenName": 16,
    "lenType": 16,
    "lenVar": 40
   },
   "kernels_config": {
    "python": {
     "delete_cmd_postfix": "",
     "delete_cmd_prefix": "del ",
     "library": "var_list.py",
     "varRefreshCmd": "print(var_dic_list())"
    },
    "r": {
     "delete_cmd_postfix": ") ",
     "delete_cmd_prefix": "rm(",
     "library": "var_list.r",
     "varRefreshCmd": "cat(var_dic_list()) "
    }
   },
   "types_to_exclude": [
    "module",
    "function",
    "builtin_function_or_method",
    "instance",
    "_Feature"
   ],
   "window_display": false
  }
 },
 "nbformat": 4,
 "nbformat_minor": 2
}
